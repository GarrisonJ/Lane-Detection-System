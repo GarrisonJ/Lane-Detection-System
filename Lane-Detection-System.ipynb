{
 "cells": [
  {
   "cell_type": "markdown",
   "metadata": {},
   "source": [
    "# Imports"
   ]
  },
  {
   "cell_type": "code",
   "execution_count": 6,
   "metadata": {},
   "outputs": [],
   "source": [
    "import numpy as np\n",
    "import cv2\n",
    "import glob\n",
    "import matplotlib.pyplot as plt\n",
    "import os\n",
    "%matplotlib inline"
   ]
  },
  {
   "cell_type": "markdown",
   "metadata": {},
   "source": [
    "# Camera Calibration"
   ]
  },
  {
   "cell_type": "markdown",
   "metadata": {},
   "source": [
    "## Build a function to undistort images"
   ]
  },
  {
   "cell_type": "code",
   "execution_count": 7,
   "metadata": {},
   "outputs": [],
   "source": [
    "def undistort_images( images ):\n",
    "    # prepare object points, like (0,0,0), (1,0,0), (2,0,0) ....,(6,5,0)\n",
    "    objp = np.zeros((6*9,3), np.float32)\n",
    "    objp[:,:2] = np.mgrid[0:9,0:6].T.reshape(-1,2)\n",
    "    # Arrays to store object points and image points from all the images.\n",
    "    objpoints = [] # 3d points in real world space\n",
    "    imgpoints = [] # 2d points in image plane.\n",
    "    # Make a list of calibration images\n",
    "    cal_images = glob.glob('camera_cal/calibration*.jpg')\n",
    "\n",
    "    # Step through the list and search for chessboard corners\n",
    "    for fname in cal_images:\n",
    "\n",
    "        img = cv2.imread(fname)\n",
    "        gray = cv2.cvtColor(img,cv2.COLOR_BGR2GRAY)\n",
    "\n",
    "        # Find the chessboard corners\n",
    "        ret, corners = cv2.findChessboardCorners(gray, (9,6), None)\n",
    "\n",
    "        # If found, add object points, image points\n",
    "        if ret == True:\n",
    "            objpoints.append(objp)\n",
    "            imgpoints.append(corners)\n",
    "    \n",
    "    \n",
    "    retval, cameraMatrix, distCoeffs, rvecs, tvecs = cv2.calibrateCamera(objpoints, imgpoints, img.shape[1:], None, None);\n",
    "    return list(map(lambda i: cv2.undistort(i, cameraMatrix, distCoeffs, None, cameraMatrix), images))"
   ]
  },
  {
   "cell_type": "markdown",
   "metadata": {},
   "source": [
    "# Create thresholded binary images"
   ]
  },
  {
   "cell_type": "code",
   "execution_count": 61,
   "metadata": {},
   "outputs": [],
   "source": [
    "def abs_sobel_thresh(image, orient='x', sobel_kernel=3, thresh=(0, 255)):\n",
    "    # Apply the following steps to img\n",
    "    # 1) Convert to grayscale\n",
    "    gray = cv2.cvtColor(image, cv2.COLOR_RGB2GRAY)\n",
    "    # 2) Take the derivative in x or y given orient = 'x' or 'y'\n",
    "    sobel = cv2.Sobel(gray, cv2.CV_64F, 1 if orient=='x' else 0, 0 if orient=='x' else 1)\n",
    "    # 3) Take the absolute value of the derivative or gradient\n",
    "    sobelabs = np.absolute(sobel)\n",
    "    # 4) Scale to 8-bit (0 - 255) then convert to type = np.uint8\n",
    "    scaledSobel = np.uint8(255*sobelabs / (np.max(sobelabs)))\n",
    "    # 5) Create a mask of 1's where the scaled gradient magnitude \n",
    "            # is > thresh_min and < thresh_max\n",
    "    binary_output = np.zeros_like(scaledSobel)\n",
    "    binary_output[(scaledSobel >= thresh[0]) & (scaledSobel <= thresh[1])] = 1\n",
    "    # 6) Return this mask as your binary_output image\n",
    "    return binary_output\n",
    "\n",
    "def mag_thresh(image, sobel_kernel=3, mag_thresh=(0, 255)):\n",
    "    # Apply the following steps to img\n",
    "    # 1) Convert to grayscale\n",
    "    gray = cv2.cvtColor(image, cv2.COLOR_RGB2GRAY)\n",
    "    # 2) Take the gradient in x and y separately\n",
    "    sobelx = cv2.Sobel(gray, cv2.CV_64F, 1, 0, ksize=sobel_kernel)\n",
    "    sobely = cv2.Sobel(gray, cv2.CV_64F, 0, 1, ksize=sobel_kernel)\n",
    "\n",
    "    # 3) Calculate the magnitude \n",
    "    sobelMag = np.sqrt(sobelx**2 + sobely**2)\n",
    "    \n",
    "    # 4) Scale to 8-bit (0 - 255) and convert to type = np.uint8\n",
    "    sobelScaled = np.uint8( 255*sobelMag / np.max(sobelMag) )\n",
    "    \n",
    "    binary_output = np.zeros_like(sobelMag)\n",
    "    # 5) Create a binary mask where mag thresholds are met\n",
    "    binary_output[ (sobelScaled >= mag_thresh[0]) & (sobelScaled <= mag_thresh[1]) ]=1\n",
    "    \n",
    "    # 6) Return this mask as your binary_output image\n",
    "    return binary_output\n",
    "\n",
    "def dir_threshold(image, sobel_kernel=3, thresh=(0, np.pi/2)):\n",
    "    # Apply the following steps to img\n",
    "    # 1) Convert to grayscale\n",
    "    gray = cv2.cvtColor(image, cv2.COLOR_RGB2GRAY)\n",
    "    # 2) Take the gradient in x and y separately\n",
    "    sobelx = cv2.Sobel(gray, cv2.CV_64F, 1, 0, ksize=sobel_kernel)\n",
    "    sobely = cv2.Sobel(gray, cv2.CV_64F, 0, 1, ksize=sobel_kernel)\n",
    "    # 3) Take the absolute value of the x and y gradients\n",
    "    sobelx_abs = np.absolute(sobelx)\n",
    "    sobely_abs = np.absolute(sobely)\n",
    "    \n",
    "    # 4) Use np.arctan2(abs_sobely, abs_sobelx) to calculate the direction of the gradient\n",
    "    sobelAngle = np.arctan2(sobely_abs, sobelx_abs)\n",
    "    # 5) Create a binary mask where direction thresholds are met\n",
    "    binary_output = np.zeros_like(sobelAngle)\n",
    "    binary_output[(sobelAngle >= thresh[0]) & (sobelAngle <= thresh[1])] = 1\n",
    "    # 6) Return this mask as your binary_output image\n",
    "\n",
    "    return binary_output\n",
    "\n",
    "def hls_select(image, thresh=(0, 255)):\n",
    "    # 1) Convert to HLS color space\n",
    "    hlsimg = cv2.cvtColor(image, cv2.COLOR_RGB2HLS)\n",
    "    \n",
    "    # 2) Apply a threshold to the S channel\n",
    "    s_channel = hlsimg[:,:,2]\n",
    "    binary_output = np.zeros_like(s_channel)\n",
    "    binary_output[(s_channel > thresh[0]) & (s_channel <= thresh[1])] = 1\n",
    "    \n",
    "    # 3) Return a binary image of threshold result\n",
    "    return binary_output\n",
    "    \n",
    "def create_binary_threashold_images(images):\n",
    "    final_images = []\n",
    "    for img in images:\n",
    "        img = np.copy(img)\n",
    "                \n",
    "        ksize = 3 \n",
    "        gradx = abs_sobel_thresh(img, orient='x', sobel_kernel=ksize, thresh=(100, 255))\n",
    "        grady = abs_sobel_thresh(img, orient='y', sobel_kernel=ksize, thresh=(100, 255))\n",
    "        mag_binary = mag_thresh(img, sobel_kernel=ksize, mag_thresh=(0, 255))\n",
    "        dir_binary = dir_threshold(img, sobel_kernel=ksize, thresh=(0, np.pi/2))\n",
    "        hls_binary = hls_select(img, thresh=(150, 255))\n",
    "\n",
    "        combined = np.zeros_like(dir_binary)\n",
    "        combined[(((gradx == 1) & (grady == 1)) | ((mag_binary == 1) & (dir_binary == 1))) & hls_binary == 1] = 1\n",
    "        \n",
    "        final_images.append(combined)\n",
    "    return final_images\n",
    "        "
   ]
  },
  {
   "cell_type": "markdown",
   "metadata": {},
   "source": [
    "# Perspective Transform"
   ]
  },
  {
   "cell_type": "code",
   "execution_count": 100,
   "metadata": {},
   "outputs": [],
   "source": [
    "def transform_to_birds_eye(images):\n",
    "    final_warped_images = []\n",
    "    height, width = images[0].shape\n",
    "    \n",
    "    src_points = np.array([[\n",
    "        (width/2+90, height/2+60), # Top Right\n",
    "        (width/2-90, height/2+60), # Top Left\n",
    "        (0, height),               # Bottom Left\n",
    "        (width, height)            # Bottom Right\n",
    "    ]], dtype=np.float32)\n",
    "    \n",
    "    dst_points = np.array([[\n",
    "        (0, 0),         # Top Right\n",
    "        (width, 0),     # Top Left\n",
    "        (width, height), # Bottom Right\n",
    "        (0, height)    # Bottom Left\n",
    "    ]], dtype=np.float32)\n",
    "\n",
    "    M = cv2.getPerspectiveTransform(src_points, dst_points)  \n",
    "    \n",
    "    \n",
    "    for img in images:\n",
    "        img = np.copy(img)\n",
    "        warped = cv2.warpPerspective(img, M, (width, height))\n",
    "        final_warped_images.append(warped)\n",
    "        \n",
    "    return final_warped_images"
   ]
  },
  {
   "cell_type": "markdown",
   "metadata": {},
   "source": [
    "# Pipeline"
   ]
  },
  {
   "cell_type": "markdown",
   "metadata": {},
   "source": [
    "* Compute the camera calibration matrix and distortion coefficients given a set of chessboard images.\n",
    "* Apply a distortion correction to raw images.\n",
    "* Use color transforms, gradients, etc., to create a thresholded binary image.\n",
    "* Apply a perspective transform to rectify binary image (\"birds-eye view\").\n",
    "* Detect lane pixels and fit to find the lane boundary.\n",
    "* Determine the curvature of the lane and vehicle position with respect to center.\n",
    "* Warp the detected lane boundaries back onto the original image.\n",
    "* Output visual display of the lane boundaries and numerical estimation of lane curvature and vehicle position."
   ]
  },
  {
   "cell_type": "code",
   "execution_count": 107,
   "metadata": {},
   "outputs": [
    {
     "data": {
      "text/plain": [
       "<matplotlib.image.AxesImage at 0x7f20a7798400>"
      ]
     },
     "execution_count": 107,
     "metadata": {},
     "output_type": "execute_result"
    },
    {
     "data": {
      "image/png": "[encoded data removed]",
      "text/plain": [
       "<matplotlib.figure.Figure at 0x7f20a77d2470>"
      ]
     },
     "metadata": {
      "needs_background": "light"
     },
     "output_type": "display_data"
    }
   ],
   "source": [
    "images = glob.glob('test_images/*.jpg')\n",
    "\n",
    "new_images = list(map(cv2.imread, images))\n",
    "\n",
    "undistorted_images = undistort_images( new_images )\n",
    "\n",
    "threashold_images = create_binary_threashold_images( undistorted_images )\n",
    "\n",
    "birds_eye_images = transform_to_birds_eye( threashold_images )\n",
    "\n",
    "plt.imshow(birds_eye_images[5], cmap='gray')"
   ]
  }
 ],
 "metadata": {
  "kernelspec": {
   "display_name": "Python 3",
   "language": "python",
   "name": "python3"
  },
  "language_info": {
   "codemirror_mode": {
    "name": "ipython",
    "version": 3
   },
   "file_extension": ".py",
   "mimetype": "text/x-python",
   "name": "python",
   "nbconvert_exporter": "python",
   "pygments_lexer": "ipython3",
   "version": "3.6.3"
  },
  "widgets": {
   "state": {},
   "version": "1.1.2"
  }
 },
 "nbformat": 4,
 "nbformat_minor": 2
}
